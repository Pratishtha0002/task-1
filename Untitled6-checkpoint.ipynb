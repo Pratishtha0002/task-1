{
 "cells": [
  {
   "cell_type": "code",
   "execution_count": 15,
   "id": "822d38c8-e919-4d4c-bb57-52cbd4665574",
   "metadata": {},
   "outputs": [
    {
     "name": "stdout",
     "output_type": "stream",
     "text": [
      "updated list: [10, 8, 12, 6]\n"
     ]
    }
   ],
   "source": [
    "my_list = [5,7,8,12]\n",
    "my_list.append(6)\n",
    "my_list.remove(7)\n",
    "my_list[0] = 10\n",
    "print(\"updated list:\" , my_list)"
   ]
  },
  {
   "cell_type": "code",
   "execution_count": 16,
   "id": "88d997b4-1a09-4478-b36f-e40062d20445",
   "metadata": {},
   "outputs": [
    {
     "name": "stdout",
     "output_type": "stream",
     "text": [
      "updated Dictionary: {'name': 'prati', 'city': 'mumbai', 'gender': 'male'}\n"
     ]
    }
   ],
   "source": [
    "my_dict = {'name': 'prati','age': 20,'city':'lucknow'}\n",
    "my_dict['gender'] = 'male'\n",
    "del my_dict['age']\n",
    "my_dict['city'] = 'mumbai'\n",
    "print(\"updated Dictionary:\",my_dict)"
   ]
  },
  {
   "cell_type": "code",
   "execution_count": 14,
   "id": "c206f01c-5457-476d-9910-2a64e14b518e",
   "metadata": {},
   "outputs": [
    {
     "name": "stdout",
     "output_type": "stream",
     "text": [
      "updated Set: {2, 4, 5, 6, 10}\n"
     ]
    }
   ],
   "source": [
    "my_set = {1,2,3,4,5}\n",
    "my_set.remove(3)\n",
    "my_set.add(6)\n",
    "my_set.discard(1)\n",
    "my_set.add(10)\n",
    "print(\"updated Set:\", my_set)"
   ]
  },
  {
   "cell_type": "code",
   "execution_count": null,
   "id": "7c7180ae-940c-4178-bf95-19f3d7c38a5c",
   "metadata": {},
   "outputs": [],
   "source": []
  }
 ],
 "metadata": {
  "kernelspec": {
   "display_name": "Python 3 (ipykernel)",
   "language": "python",
   "name": "python3"
  },
  "language_info": {
   "codemirror_mode": {
    "name": "ipython",
    "version": 3
   },
   "file_extension": ".py",
   "mimetype": "text/x-python",
   "name": "python",
   "nbconvert_exporter": "python",
   "pygments_lexer": "ipython3",
   "version": "3.12.4"
  }
 },
 "nbformat": 4,
 "nbformat_minor": 5
}
